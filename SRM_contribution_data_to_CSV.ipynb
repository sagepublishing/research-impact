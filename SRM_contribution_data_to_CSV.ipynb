{
 "cells": [
  {
   "cell_type": "markdown",
   "metadata": {},
   "source": [
    "Script for preprocessing contribution and research method data for graph database. \n",
    "rdf files come from 2 folders: education and psychology. files consist of doi header and xml of appended research method entities \n",
    "\n",
    "contribution data for prototype is from powerBI datatbase made available by shared access. \n",
    "\n",
    "final result is csv file where each row contains a research method and unique set of contribution data (author, article, journal, institute, ringgold id, etc.)"
   ]
  },
  {
   "cell_type": "code",
   "execution_count": 1,
   "metadata": {},
   "outputs": [],
   "source": [
    "import xml.etree.ElementTree as ET\n",
    "import simplejson as json\n",
    "import glob\n",
    "import itertools \n",
    "import csv\n",
    "import re\n",
    "import math\n",
    "import pandas as pd\n",
    "from tqdm import tqdm"
   ]
  },
  {
   "cell_type": "code",
   "execution_count": 3,
   "metadata": {},
   "outputs": [],
   "source": [
    "rdf_files = glob.glob(\"{}/*.rdf\".format(\"/to/path/Psychology\"))\n",
    "master_contribution = pd.read_csv('/to/path/master_contribution_data.csv')"
   ]
  },
  {
   "cell_type": "markdown",
   "metadata": {},
   "source": [
    "**GENERATE {SRM:[DOIs]}**"
   ]
  },
  {
   "cell_type": "code",
   "execution_count": 4,
   "metadata": {},
   "outputs": [
    {
     "name": "stderr",
     "output_type": "stream",
     "text": [
      "100%|██████████| 123913/123913 [06:40<00:00, 309.04it/s]\n"
     ]
    }
   ],
   "source": [
    "srm_dict = {}\n",
    "for rdf_filename in tqdm(rdf_files):\n",
    "    with open(rdf_filename, \"r\") as rdf_file:\n",
    "        rdf_str = rdf_file.read()\n",
    "        xml_idx = rdf_str.rfind(\"<?xml version=\")\n",
    "        \n",
    "        if (xml_idx > 0):\n",
    "            rdf_str = rdf_str[:xml_idx]\n",
    "\n",
    "        root = ET.fromstring(rdf_str)\n",
    "        doi = root.attrib.get(\"id\")\n",
    "\n",
    "        entity_root = root.find('entities')\n",
    "        for entity_element in entity_root.findall('entity'):\n",
    "            #entity_id = entity_element.get(\"id\")\n",
    "            entity_val = entity_element.get(\"value\")\n",
    "            srm_dict.setdefault(entity_val,[]).append(doi)"
   ]
  },
  {
   "cell_type": "markdown",
   "metadata": {},
   "source": [
    "**FILTER CONTRIBUTION DATA**"
   ]
  },
  {
   "cell_type": "code",
   "execution_count": 8,
   "metadata": {},
   "outputs": [
    {
     "name": "stderr",
     "output_type": "stream",
     "text": [
      "100%|██████████| 30000/30000 [00:11<00:00, 2500.42it/s]\n"
     ]
    }
   ],
   "source": [
    "srm_doi_list = []\n",
    "for key,val in srm_dict.items():\n",
    "    for doi in val:\n",
    "        srm_doi_list.append(doi)\n",
    "\n",
    "contrib_doi_list = master_contribution['DOI'].tolist()\n",
    "filter_doi_list = list(set(contrib_doi_list).intersection(srm_doi_list))\n",
    "\n",
    "filter_contribution = pd.DataFrame(columns = master_contribution.columns.values.tolist())\n",
    "\n",
    "for i in tqdm(range (0, master_contribution.shape[0])):\n",
    "    if master_contribution['DOI'].iloc[i] in filter_doi_list:\n",
    "        filter_contribution = filter_contribution.append(master_contribution.iloc[i])\n",
    "filter_contribution = filter_contribution.reset_index().drop(columns='index')"
   ]
  },
  {
   "cell_type": "markdown",
   "metadata": {},
   "source": [
    "**FILTER {SRM:[DOIs]} BY FILTERED CONTRIBUTION DATA**"
   ]
  },
  {
   "cell_type": "code",
   "execution_count": 9,
   "metadata": {},
   "outputs": [
    {
     "name": "stderr",
     "output_type": "stream",
     "text": [
      "100%|██████████| 648/648 [00:27<00:00, 23.39it/s] \n"
     ]
    }
   ],
   "source": [
    "filter_dict = {}\n",
    "for key,val in tqdm(srm_dict.items()):\n",
    "    for doi in val:\n",
    "        if doi in filter_doi_list:\n",
    "            filter_dict.setdefault(key,[]).append(doi) "
   ]
  },
  {
   "cell_type": "markdown",
   "metadata": {},
   "source": [
    "**GENERATE {SRM:[CONTRIBUTION DATA]}**\n",
    "such that each row corresponds to srm key and an element in value array"
   ]
  },
  {
   "cell_type": "code",
   "execution_count": 11,
   "metadata": {},
   "outputs": [
    {
     "name": "stderr",
     "output_type": "stream",
     "text": [
      "100%|██████████| 518/518 [15:56<00:00, 12.57it/s]\n"
     ]
    }
   ],
   "source": [
    "final_dict = {}\n",
    "for key,val in tqdm(filter_dict.items()):\n",
    "    for doi in val:\n",
    "        for i in range(0, filter_contribution.shape[0]):\n",
    "            if filter_contribution['DOI'].loc[i] == doi:\n",
    "                data= filter_contribution.loc[i].values.tolist()\n",
    "                final_dict.setdefault(key,[]).append(data) "
   ]
  },
  {
   "cell_type": "markdown",
   "metadata": {},
   "source": [
    "**GENERATE COMPLETE SRM/CONTRIBUTION DATAFRAME**"
   ]
  },
  {
   "cell_type": "code",
   "execution_count": 17,
   "metadata": {},
   "outputs": [],
   "source": [
    "srm_list = []\n",
    "data_list = []\n",
    "for key,val in final_dict.items():\n",
    "    key_list = [key]*len(val)\n",
    "    srm_list.extend(key_list)\n",
    "    for data in val:\n",
    "        data_list.append(data)\n",
    "        \n",
    "srm_df = pd.DataFrame(srm_list,columns=['research method'])\n",
    "df_columns = master_contribution.columns.values\n",
    "data_df = pd.DataFrame(data_list,columns=df_columns)\n",
    "master_df = srm_df.join(data_df)"
   ]
  },
  {
   "cell_type": "code",
   "execution_count": 25,
   "metadata": {},
   "outputs": [],
   "source": [
    "master_df.to_csv('/to/path/SRM.csv')"
   ]
  }
 ],
 "metadata": {
  "kernelspec": {
   "display_name": "Python 3",
   "language": "python",
   "name": "python3"
  },
  "language_info": {
   "codemirror_mode": {
    "name": "ipython",
    "version": 3
   },
   "file_extension": ".py",
   "mimetype": "text/x-python",
   "name": "python",
   "nbconvert_exporter": "python",
   "pygments_lexer": "ipython3",
   "version": "3.6.6"
  }
 },
 "nbformat": 4,
 "nbformat_minor": 2
}
