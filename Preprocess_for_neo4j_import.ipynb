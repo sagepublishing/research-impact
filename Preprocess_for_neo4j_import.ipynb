{
 "cells": [
  {
   "cell_type": "markdown",
   "metadata": {},
   "source": [
    "Manual preprocessing for neo4j import. Created all nodes and relationships data as separate csv files, to be IMPORTED in the neo4j browser. \n",
    "Probably changeable but IMPORT looks for a specific file path (where I'm saving the CSVs)(you can see the path in the error message in the browser). "
   ]
  },
  {
   "cell_type": "code",
   "execution_count": 1,
   "metadata": {},
   "outputs": [],
   "source": [
    "import pandas as pd"
   ]
  },
  {
   "cell_type": "code",
   "execution_count": 2,
   "metadata": {},
   "outputs": [],
   "source": [
    "data = pd.read_csv('/to/path/SRM.csv')\n",
    "data = data.drop(columns=['Unnamed: 0']).rename(index = str, columns={'research method':'research_method'})"
   ]
  },
  {
   "cell_type": "markdown",
   "metadata": {},
   "source": [
    "**RESEARCH METHOD NODES**"
   ]
  },
  {
   "cell_type": "code",
   "execution_count": 3,
   "metadata": {},
   "outputs": [],
   "source": [
    "srm = data['research_method'].copy().unique()\n",
    "srm_complete = pd.DataFrame(srm)\n",
    "srm_complete.columns=['research_method']\n",
    "srm_complete.to_csv('''/path/to/Library/Application Support/Neo4j Desktop/Application/neo4jDatabases/database-9254560b-22cd-4082-ab2e-275a70a36514/installation-3.4.9/import/srm_complete.csv''')"
   ]
  },
  {
   "cell_type": "markdown",
   "metadata": {},
   "source": [
    "**ARTICLE NODES**"
   ]
  },
  {
   "cell_type": "code",
   "execution_count": 74,
   "metadata": {},
   "outputs": [],
   "source": [
    "article_complete = data[['Article_Title','DOI','Journal_Title']].copy().drop_duplicates()\n",
    "article_complete.to_csv('''/to/path/Library/Application Support/Neo4j Desktop/Application/neo4jDatabases/database-9254560b-22cd-4082-ab2e-275a70a36514/installation-3.4.9/import/article_complete.csv''')"
   ]
  },
  {
   "cell_type": "markdown",
   "metadata": {},
   "source": [
    "**AUTHOR NODES**"
   ]
  },
  {
   "cell_type": "code",
   "execution_count": 5,
   "metadata": {},
   "outputs": [],
   "source": [
    "author_complete = data[['Contributor_Name','institute_name']].copy().drop_duplicates()\n",
    "author_complete = author_complete.drop_duplicates(subset='Contributor_Name',keep='first').reset_index().drop(columns=['index'])\n",
    "author_complete.to_csv('''/to/path/Library/Application Support/Neo4j Desktop/Application/neo4jDatabases/database-9254560b-22cd-4082-ab2e-275a70a36514/installation-3.4.9/import/author_complete.csv''')"
   ]
  },
  {
   "cell_type": "markdown",
   "metadata": {},
   "source": [
    "**ARTICLE-[:APPLIES]->METHOD**"
   ]
  },
  {
   "cell_type": "code",
   "execution_count": 80,
   "metadata": {},
   "outputs": [],
   "source": [
    "method_article = data[['research_method','Article_Title']].copy().drop_duplicates()\n",
    "method_article.to_csv('''/to/path/Library/Application Support/Neo4j Desktop/Application/neo4jDatabases/database-9254560b-22cd-4082-ab2e-275a70a36514/installation-3.4.9/import/method_article.csv''')"
   ]
  },
  {
   "cell_type": "markdown",
   "metadata": {},
   "source": [
    "**AUTHOR-[:CONTRIBUTES]->ARTICLE**"
   ]
  },
  {
   "cell_type": "code",
   "execution_count": 8,
   "metadata": {},
   "outputs": [],
   "source": [
    "article_author = data[['Article_Title', 'Contributor_Name']].copy().drop_duplicates()\n",
    "article_author.to_csv('''/to/path/Library/Application Support/Neo4j Desktop/Application/neo4jDatabases/database-9254560b-22cd-4082-ab2e-275a70a36514/installation-3.4.9/import/article_author.csv''')"
   ]
  }
 ],
 "metadata": {
  "kernelspec": {
   "display_name": "Python 3",
   "language": "python",
   "name": "python3"
  },
  "language_info": {
   "codemirror_mode": {
    "name": "ipython",
    "version": 3
   },
   "file_extension": ".py",
   "mimetype": "text/x-python",
   "name": "python",
   "nbconvert_exporter": "python",
   "pygments_lexer": "ipython3",
   "version": "3.6.6"
  }
 },
 "nbformat": 4,
 "nbformat_minor": 2
}
