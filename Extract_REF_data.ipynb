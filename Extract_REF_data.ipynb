{
 "cells": [
  {
   "cell_type": "code",
   "execution_count": 1,
   "metadata": {},
   "outputs": [],
   "source": [
    "import pandas as pd\n",
    "import requests\n",
    "from tqdm import tqdm\n",
    "import json"
   ]
  },
  {
   "cell_type": "code",
   "execution_count": 2,
   "metadata": {},
   "outputs": [],
   "source": [
    "units_of_assessment = ['Clinical Medicine', 'Public Health, Health Services and Primary Care',\n",
    "        'Allied Health Professions, Dentistry, Nursing and Pharmacy',\n",
    "        'Psychology, Psychiatry and Neuroscience', 'Biological Sciences',\n",
    "        'Agriculture, Veterinary and Food Science',\n",
    "        'Earth Systems and Environmental Sciences', 'Chemistry', 'Physics',\n",
    "        'Mathematical Sciences', 'Computer Science and Informatics',\n",
    "        'Aeronautical, Mechanical, Chemical and Manufacturing Engineering',\n",
    "        'Electrical and Electronic Engineering, Metallurgy and Materials',\n",
    "        'Civil and Construction Engineering', 'General Engineering',\n",
    "        'Architecture, Built Environment and Planning',\n",
    "        'Geography, Environmental Studies and Archaeology',\n",
    "        'Economics and Econometrics', 'Business and Management Studies', 'Law',\n",
    "        'Politics and International Studies', 'Social Work and Social Policy',\n",
    "        'Sociology', 'Anthropology and Development Studies', 'Education',\n",
    "        'Sport and Exercise Sciences, Leisure and Tourism', 'Area Studies',\n",
    "        'Modern Languages and Linguistics', 'English Language and Literature',\n",
    "        'History', 'Classics', 'Philosophy', 'Theology and Religious Studies',\n",
    "        'Art and Design: History, Practice and Theory',\n",
    "        'Music, Drama, Dance and Performing Arts',\n",
    "        'Communication, Cultural and Media Studies, Library and Information Management']\n",
    "\n",
    "uoa_report_count = [383,163,342,316,257,125,171,125,181,209,248,119,126,51,239,\n",
    "            140,235,98,410,216,166,186,97,80,215,122,68,190,280,263,59,98,75,231,194,159]\n",
    "\n",
    "query_df = pd.DataFrame({'uoa code':list(range(1,37)),'unit of assessment':units_of_assessment,'number of studies':uoa_report_count})\n",
    "query_df = query_df.set_index(['uoa code'])"
   ]
  },
  {
   "cell_type": "code",
   "execution_count": 3,
   "metadata": {},
   "outputs": [],
   "source": [
    "#list of units of assessment for data extraction\n",
    "extract_uoas = [20, 21, 22, 23, 24, 25, 26, 27]\n",
    "\n",
    "uoa_list = []\n",
    "for uoa in extract_uoas:\n",
    "    uoa_list.extend([uoa]*query_df['number of studies'].loc[uoa])\n",
    "ref_df = pd.DataFrame({'uoa':uoa_list})"
   ]
  },
  {
   "cell_type": "code",
   "execution_count": 7,
   "metadata": {},
   "outputs": [
    {
     "name": "stdin",
     "output_type": "stream",
     "text": [
      " Institution\n"
     ]
    },
    {
     "name": "stderr",
     "output_type": "stream",
     "text": [
      "100%|██████████| 8/8 [00:30<00:00,  3.64s/it]\n"
     ]
    }
   ],
   "source": [
    "#extract ImpactDetails, UnderpinningResearch or data from any other field:\n",
    "'''CaseStudyId, Continent, Country, Funders, ImpactDetails, ImpactSummary, ImpactType, Institution, Institutions, \n",
    "Panel, PlaceName, References, ResearchSubjectAreas, Sources, Title UKLocation, UKRegion, UnderpinningResearch, UOA'''\n",
    "\n",
    "field = input()\n",
    "field_list = []\n",
    "for uoa in tqdm(extract_uoas):\n",
    "    url = requests.get('https://impact.ref.ac.uk/casestudiesapi/REFAPI.svc/SearchCaseStudies?UoA='+str(uoa)+'&format=JSON')\n",
    "    data = url.json()\n",
    "    for i in range(0,len(data)):\n",
    "        field_list.append(data[i][field])\n",
    "ref_df[field] = field_list\n",
    "#data from field appended to ref_df dataframe"
   ]
  }
 ],
 "metadata": {
  "kernelspec": {
   "display_name": "Python 3",
   "language": "python",
   "name": "python3"
  },
  "language_info": {
   "codemirror_mode": {
    "name": "ipython",
    "version": 3
   },
   "file_extension": ".py",
   "mimetype": "text/x-python",
   "name": "python",
   "nbconvert_exporter": "python",
   "pygments_lexer": "ipython3",
   "version": "3.6.6"
  }
 },
 "nbformat": 4,
 "nbformat_minor": 2
}
